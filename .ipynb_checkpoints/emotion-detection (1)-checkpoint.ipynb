{
 "cells": [
  {
   "cell_type": "code",
   "execution_count": 29,
   "metadata": {
    "_cell_guid": "b1076dfc-b9ad-4769-8c92-a6c4dae69d19",
    "_uuid": "8f2839f25d086af736a60e9eeb907d3b93b6e0e5"
   },
   "outputs": [],
   "source": [
    "import numpy as np # linear algebra\n",
    "import pandas as pd # data processing, CSV file I/O (e.g. pd.read_csv)\n",
    "import os\n",
    "# for dirname, _, filenames in os.walk('/kaggle/input'):\n",
    "#     for filename in filenames:\n",
    "#         print(os.path.join(dirname, filename))\n",
    "import matplotlib.pyplot as plt\n",
    "import seaborn as sns\n",
    "import tensorflow as tf\n",
    "import keras\n",
    "from keras.preprocessing import image\n",
    "from keras.models import Sequential\n",
    "from keras.layers import Conv2D, MaxPool2D, Flatten,Dense,Dropout,BatchNormalization\n",
    "from tensorflow.keras.preprocessing.image import ImageDataGenerator\n",
    "import cv2\n",
    "from tensorflow.keras.applications import VGG16, InceptionResNetV2\n",
    "from keras import regularizers\n",
    "from tensorflow.keras.optimizers import Adam,RMSprop,SGD,Adamax"
   ]
  },
  {
   "cell_type": "code",
   "execution_count": 30,
   "metadata": {},
   "outputs": [],
   "source": [
    "train_dir = \"../input/emotion-detection-fer/train\"\n",
    "test_dir = \"../input/emotion-detection-fer/test\"  "
   ]
  },
  {
   "cell_type": "code",
   "execution_count": 31,
   "metadata": {},
   "outputs": [
    {
     "data": {
      "text/plain": [
       "'../input/emotion-detection-fer/train'"
      ]
     },
     "execution_count": 31,
     "metadata": {},
     "output_type": "execute_result"
    }
   ],
   "source": [
    "train_dir"
   ]
  },
  {
   "cell_type": "code",
   "execution_count": 32,
   "metadata": {},
   "outputs": [],
   "source": [
    "img_size = 48"
   ]
  },
  {
   "cell_type": "code",
   "execution_count": 33,
   "metadata": {},
   "outputs": [],
   "source": [
    "\n",
    "train_datagen = ImageDataGenerator(\n",
    "                                         rescale = 1./255,\n",
    "                                         validation_split = 0.2\n",
    "                                        )\n",
    "validation_datagen = ImageDataGenerator(rescale = 1./255,\n",
    "                                         validation_split = 0.2)"
   ]
  },
  {
   "cell_type": "code",
   "execution_count": 34,
   "metadata": {},
   "outputs": [
    {
     "name": "stdout",
     "output_type": "stream",
     "text": [
      "Found 22968 images belonging to 7 classes.\n",
      "Found 1432 images belonging to 7 classes.\n"
     ]
    }
   ],
   "source": [
    "\n",
    "train_generator = train_datagen.flow_from_directory(directory = train_dir,\n",
    "                                                    target_size = (img_size,img_size),\n",
    "                                                    batch_size = 128,\n",
    "                                                    color_mode = \"grayscale\",\n",
    "                                                    class_mode = \"categorical\",\n",
    "                                                    subset = \"training\"\n",
    "                                                   )\n",
    "validation_generator = validation_datagen.flow_from_directory( directory = test_dir,\n",
    "                                                              target_size = (img_size,img_size),\n",
    "                                                              batch_size = 128,\n",
    "                                                              color_mode = \"grayscale\",\n",
    "                                                              class_mode = \"categorical\",\n",
    "                                                              subset = \"validation\"\n",
    "                                                             )"
   ]
  },
  {
   "cell_type": "code",
   "execution_count": 35,
   "metadata": {},
   "outputs": [],
   "source": [
    "model= tf.keras.models.Sequential()\n",
    "model.add(Conv2D(32, kernel_size=(3, 3), padding='same', activation='relu', input_shape=(48, 48,1)))\n",
    "model.add(Conv2D(64,(3,3), padding='same', activation='relu' ))\n",
    "model.add(BatchNormalization())\n",
    "model.add(MaxPool2D(pool_size=(2, 2)))\n",
    "model.add(Dropout(0.25))\n",
    "\n",
    "model.add(Conv2D(128,(5,5), padding='same', activation='relu'))\n",
    "model.add(BatchNormalization())\n",
    "model.add(MaxPool2D(pool_size=(2, 2)))\n",
    "model.add(Dropout(0.25))\n",
    "    \n",
    "model.add(Conv2D(512,(3,3), padding='same', activation='relu', kernel_regularizer=regularizers.l2(0.01)))\n",
    "model.add(BatchNormalization())\n",
    "model.add(MaxPool2D(pool_size=(2, 2)))\n",
    "model.add(Dropout(0.25))\n",
    "\n",
    "model.add(Conv2D(512,(3,3), padding='same', activation='relu', kernel_regularizer=regularizers.l2(0.01)))\n",
    "model.add(BatchNormalization())\n",
    "model.add(MaxPool2D(pool_size=(2, 2)))\n",
    "model.add(Dropout(0.25))\n",
    "\n",
    "model.add(Flatten()) \n",
    "model.add(Dense(256,activation = 'relu'))\n",
    "model.add(BatchNormalization())\n",
    "model.add(Dropout(0.25))\n",
    "    \n",
    "model.add(Dense(512,activation = 'relu'))\n",
    "model.add(BatchNormalization())\n",
    "model.add(Dropout(0.25))\n",
    "\n",
    "model.add(Dense(7, activation='softmax'))\n",
    "\n",
    "model.compile(\n",
    "    optimizer = Adam(lr=0.0001), \n",
    "    loss='categorical_crossentropy', \n",
    "    metrics=['accuracy']\n",
    "  )"
   ]
  },
  {
   "cell_type": "code",
   "execution_count": 36,
   "metadata": {},
   "outputs": [],
   "source": [
    "epochs = 30\n",
    "batch_size = 128"
   ]
  },
  {
   "cell_type": "code",
   "execution_count": 37,
   "metadata": {},
   "outputs": [
    {
     "name": "stdout",
     "output_type": "stream",
     "text": [
      "Model: \"sequential_3\"\n",
      "_________________________________________________________________\n",
      "Layer (type)                 Output Shape              Param #   \n",
      "=================================================================\n",
      "conv2d_10 (Conv2D)           (None, 48, 48, 32)        320       \n",
      "_________________________________________________________________\n",
      "conv2d_11 (Conv2D)           (None, 48, 48, 64)        18496     \n",
      "_________________________________________________________________\n",
      "batch_normalization_13 (Batc (None, 48, 48, 64)        256       \n",
      "_________________________________________________________________\n",
      "max_pooling2d_9 (MaxPooling2 (None, 24, 24, 64)        0         \n",
      "_________________________________________________________________\n",
      "dropout_13 (Dropout)         (None, 24, 24, 64)        0         \n",
      "_________________________________________________________________\n",
      "conv2d_12 (Conv2D)           (None, 24, 24, 128)       204928    \n",
      "_________________________________________________________________\n",
      "batch_normalization_14 (Batc (None, 24, 24, 128)       512       \n",
      "_________________________________________________________________\n",
      "max_pooling2d_10 (MaxPooling (None, 12, 12, 128)       0         \n",
      "_________________________________________________________________\n",
      "dropout_14 (Dropout)         (None, 12, 12, 128)       0         \n",
      "_________________________________________________________________\n",
      "conv2d_13 (Conv2D)           (None, 12, 12, 512)       590336    \n",
      "_________________________________________________________________\n",
      "batch_normalization_15 (Batc (None, 12, 12, 512)       2048      \n",
      "_________________________________________________________________\n",
      "max_pooling2d_11 (MaxPooling (None, 6, 6, 512)         0         \n",
      "_________________________________________________________________\n",
      "dropout_15 (Dropout)         (None, 6, 6, 512)         0         \n",
      "_________________________________________________________________\n",
      "conv2d_14 (Conv2D)           (None, 6, 6, 512)         2359808   \n",
      "_________________________________________________________________\n",
      "batch_normalization_16 (Batc (None, 6, 6, 512)         2048      \n",
      "_________________________________________________________________\n",
      "max_pooling2d_12 (MaxPooling (None, 3, 3, 512)         0         \n",
      "_________________________________________________________________\n",
      "dropout_16 (Dropout)         (None, 3, 3, 512)         0         \n",
      "_________________________________________________________________\n",
      "flatten_3 (Flatten)          (None, 4608)              0         \n",
      "_________________________________________________________________\n",
      "dense_9 (Dense)              (None, 256)               1179904   \n",
      "_________________________________________________________________\n",
      "batch_normalization_17 (Batc (None, 256)               1024      \n",
      "_________________________________________________________________\n",
      "dropout_17 (Dropout)         (None, 256)               0         \n",
      "_________________________________________________________________\n",
      "dense_10 (Dense)             (None, 512)               131584    \n",
      "_________________________________________________________________\n",
      "batch_normalization_18 (Batc (None, 512)               2048      \n",
      "_________________________________________________________________\n",
      "dropout_18 (Dropout)         (None, 512)               0         \n",
      "_________________________________________________________________\n",
      "dense_11 (Dense)             (None, 7)                 3591      \n",
      "=================================================================\n",
      "Total params: 4,496,903\n",
      "Trainable params: 4,492,935\n",
      "Non-trainable params: 3,968\n",
      "_________________________________________________________________\n"
     ]
    }
   ],
   "source": [
    "model.summary()"
   ]
  },
  {
   "cell_type": "code",
   "execution_count": 38,
   "metadata": {},
   "outputs": [
    {
     "name": "stdout",
     "output_type": "stream",
     "text": [
      "Epoch 1/30\n",
      "180/180 [==============================] - 20s 103ms/step - loss: 9.6799 - accuracy: 0.1829 - val_loss: 8.7956 - val_accuracy: 0.2472\n",
      "Epoch 2/30\n",
      "180/180 [==============================] - 18s 102ms/step - loss: 8.8463 - accuracy: 0.2360 - val_loss: 8.2624 - val_accuracy: 0.2416\n",
      "Epoch 3/30\n",
      "180/180 [==============================] - 19s 105ms/step - loss: 8.1650 - accuracy: 0.2670 - val_loss: 8.0864 - val_accuracy: 0.2500\n",
      "Epoch 4/30\n",
      "180/180 [==============================] - 18s 101ms/step - loss: 7.4571 - accuracy: 0.3086 - val_loss: 7.0526 - val_accuracy: 0.3331\n",
      "Epoch 5/30\n",
      "180/180 [==============================] - 18s 100ms/step - loss: 6.8123 - accuracy: 0.3344 - val_loss: 6.2551 - val_accuracy: 0.3994\n",
      "Epoch 6/30\n",
      "180/180 [==============================] - 18s 101ms/step - loss: 6.1929 - accuracy: 0.3638 - val_loss: 5.6275 - val_accuracy: 0.4281\n",
      "Epoch 7/30\n",
      "180/180 [==============================] - 19s 106ms/step - loss: 5.6000 - accuracy: 0.3883 - val_loss: 5.1962 - val_accuracy: 0.4211\n",
      "Epoch 8/30\n",
      "180/180 [==============================] - 18s 100ms/step - loss: 5.0611 - accuracy: 0.4100 - val_loss: 4.5931 - val_accuracy: 0.4637\n",
      "Epoch 9/30\n",
      "180/180 [==============================] - 18s 99ms/step - loss: 4.5916 - accuracy: 0.4297 - val_loss: 4.2200 - val_accuracy: 0.4811\n",
      "Epoch 10/30\n",
      "180/180 [==============================] - 18s 101ms/step - loss: 4.1426 - accuracy: 0.4556 - val_loss: 3.9103 - val_accuracy: 0.4337\n",
      "Epoch 11/30\n",
      "180/180 [==============================] - 18s 98ms/step - loss: 3.7805 - accuracy: 0.4715 - val_loss: 3.4645 - val_accuracy: 0.5007\n",
      "Epoch 12/30\n",
      "180/180 [==============================] - 18s 101ms/step - loss: 3.4232 - accuracy: 0.4966 - val_loss: 3.1818 - val_accuracy: 0.5070\n",
      "Epoch 13/30\n",
      "180/180 [==============================] - 18s 101ms/step - loss: 3.1456 - accuracy: 0.5121 - val_loss: 3.0586 - val_accuracy: 0.5126\n",
      "Epoch 14/30\n",
      "180/180 [==============================] - 18s 99ms/step - loss: 2.8914 - accuracy: 0.5230 - val_loss: 2.6854 - val_accuracy: 0.5608\n",
      "Epoch 15/30\n",
      "180/180 [==============================] - 18s 98ms/step - loss: 2.6625 - accuracy: 0.5486 - val_loss: 2.5524 - val_accuracy: 0.5314\n",
      "Epoch 16/30\n",
      "180/180 [==============================] - 18s 100ms/step - loss: 2.4766 - accuracy: 0.5581 - val_loss: 2.4160 - val_accuracy: 0.5531\n",
      "Epoch 17/30\n",
      "180/180 [==============================] - 18s 98ms/step - loss: 2.3140 - accuracy: 0.5811 - val_loss: 2.2644 - val_accuracy: 0.5726\n",
      "Epoch 18/30\n",
      "180/180 [==============================] - 18s 98ms/step - loss: 2.1612 - accuracy: 0.5949 - val_loss: 2.1677 - val_accuracy: 0.5601\n",
      "Epoch 19/30\n",
      "180/180 [==============================] - 18s 98ms/step - loss: 2.0256 - accuracy: 0.6153 - val_loss: 2.0387 - val_accuracy: 0.5908\n",
      "Epoch 20/30\n",
      "180/180 [==============================] - 18s 100ms/step - loss: 1.9245 - accuracy: 0.6196 - val_loss: 1.9702 - val_accuracy: 0.6027\n",
      "Epoch 21/30\n",
      "180/180 [==============================] - 18s 99ms/step - loss: 1.8393 - accuracy: 0.6335 - val_loss: 1.9318 - val_accuracy: 0.5957\n",
      "Epoch 22/30\n",
      "180/180 [==============================] - 18s 98ms/step - loss: 1.7491 - accuracy: 0.6502 - val_loss: 1.8766 - val_accuracy: 0.6208\n",
      "Epoch 23/30\n",
      "180/180 [==============================] - 18s 100ms/step - loss: 1.6614 - accuracy: 0.6702 - val_loss: 1.8947 - val_accuracy: 0.5908\n",
      "Epoch 24/30\n",
      "180/180 [==============================] - 17s 97ms/step - loss: 1.5811 - accuracy: 0.6896 - val_loss: 1.8609 - val_accuracy: 0.5999\n",
      "Epoch 25/30\n",
      "180/180 [==============================] - 18s 98ms/step - loss: 1.5316 - accuracy: 0.7042 - val_loss: 1.8877 - val_accuracy: 0.5943\n",
      "Epoch 26/30\n",
      "180/180 [==============================] - 17s 97ms/step - loss: 1.4783 - accuracy: 0.7219 - val_loss: 1.8621 - val_accuracy: 0.6103\n",
      "Epoch 27/30\n",
      "180/180 [==============================] - 18s 98ms/step - loss: 1.4129 - accuracy: 0.7409 - val_loss: 1.8568 - val_accuracy: 0.6082\n",
      "Epoch 28/30\n",
      "180/180 [==============================] - 18s 99ms/step - loss: 1.3733 - accuracy: 0.7556 - val_loss: 1.8397 - val_accuracy: 0.6271\n",
      "Epoch 29/30\n",
      "180/180 [==============================] - 17s 96ms/step - loss: 1.3085 - accuracy: 0.7823 - val_loss: 1.8332 - val_accuracy: 0.6166\n",
      "Epoch 30/30\n",
      "180/180 [==============================] - 18s 99ms/step - loss: 1.2815 - accuracy: 0.7918 - val_loss: 1.9236 - val_accuracy: 0.6145\n"
     ]
    }
   ],
   "source": [
    "history = model.fit(x = train_generator,epochs = epochs,validation_data = validation_generator)"
   ]
  },
  {
   "cell_type": "code",
   "execution_count": 39,
   "metadata": {},
   "outputs": [
    {
     "ename": "NameError",
     "evalue": "name 'fwfw' is not defined",
     "output_type": "error",
     "traceback": [
      "\u001b[0;31m---------------------------------------------------------------------------\u001b[0m",
      "\u001b[0;31mNameError\u001b[0m                                 Traceback (most recent call last)",
      "\u001b[0;32m<ipython-input-39-2c3a2d379f52>\u001b[0m in \u001b[0;36m<module>\u001b[0;34m\u001b[0m\n\u001b[0;32m----> 1\u001b[0;31m \u001b[0mfwfw\u001b[0m\u001b[0;34m\u001b[0m\u001b[0;34m\u001b[0m\u001b[0m\n\u001b[0m",
      "\u001b[0;31mNameError\u001b[0m: name 'fwfw' is not defined"
     ]
    }
   ],
   "source": [
    "fwfw"
   ]
  },
  {
   "cell_type": "code",
   "execution_count": 40,
   "metadata": {},
   "outputs": [
    {
     "data": {
      "image/png": "[encoded data removed]",
      "text/plain": [
       "<Figure size 864x288 with 2 Axes>"
      ]
     },
     "metadata": {
      "needs_background": "light"
     },
     "output_type": "display_data"
    }
   ],
   "source": [
    "fig , ax = plt.subplots(1,2)\n",
    "train_acc = history.history['accuracy']\n",
    "train_loss = history.history['loss']\n",
    "fig.set_size_inches(12,4)\n",
    "\n",
    "ax[0].plot(history.history['accuracy'])\n",
    "ax[0].plot(history.history['val_accuracy'])\n",
    "ax[0].set_title('Training Accuracy vs Validation Accuracy')\n",
    "ax[0].set_ylabel('Accuracy')\n",
    "ax[0].set_xlabel('Epoch')\n",
    "ax[0].legend(['Train', 'Validation'], loc='upper left')\n",
    "\n",
    "ax[1].plot(history.history['loss'])\n",
    "ax[1].plot(history.history['val_loss'])\n",
    "ax[1].set_title('Training Loss vs Validation Loss')\n",
    "ax[1].set_ylabel('Loss')\n",
    "ax[1].set_xlabel('Epoch')\n",
    "ax[1].legend(['Train', 'Validation'], loc='upper left')\n",
    "\n",
    "plt.show()"
   ]
  },
  {
   "cell_type": "code",
   "execution_count": 41,
   "metadata": {},
   "outputs": [],
   "source": [
    "model.save('emotion3.h5')"
   ]
  },
  {
   "cell_type": "code",
   "execution_count": 48,
   "metadata": {},
   "outputs": [
    {
     "name": "stdout",
     "output_type": "stream",
     "text": [
      "(48, 48)\n"
     ]
    },
    {
     "data": {
      "image/png": "[encoded data removed]",
      "text/plain": [
       "<Figure size 432x288 with 1 Axes>"
      ]
     },
     "metadata": {
      "needs_background": "light"
     },
     "output_type": "display_data"
    }
   ],
   "source": [
    "img = image.load_img(\"../input/emotion-detection-fer/test/surprised/im0.png\",target_size = (48,48),color_mode = \"grayscale\")\n",
    "img = np.array(img)\n",
    "plt.imshow(img)\n",
    "print(img.shape) "
   ]
  },
  {
   "cell_type": "code",
   "execution_count": 49,
   "metadata": {},
   "outputs": [],
   "source": [
    "label_dict = {0:'Angry',1:'Disgust',2:'Fear',3:'Happy',4:'Neutral',5:'Sad',6:'Surprise'}"
   ]
  },
  {
   "cell_type": "code",
   "execution_count": 50,
   "metadata": {},
   "outputs": [
    {
     "name": "stdout",
     "output_type": "stream",
     "text": [
      "[0.0, 0.0, 0.0, 0.0, 0.0, 0.0, 1.0]\n"
     ]
    }
   ],
   "source": [
    "img = np.expand_dims(img,axis = 0) \n",
    "img = img.reshape(1,48,48,1)\n",
    "result = model.predict(img)\n",
    "result = list(result[0])\n",
    "print(result)"
   ]
  },
  {
   "cell_type": "code",
   "execution_count": 51,
   "metadata": {},
   "outputs": [
    {
     "name": "stdout",
     "output_type": "stream",
     "text": [
      "Surprise\n"
     ]
    }
   ],
   "source": [
    "img_index = result.index(max(result))\n",
    "print(label_dict[img_index])\n",
    "plt.show()"
   ]
  },
  {
   "cell_type": "code",
   "execution_count": 52,
   "metadata": {},
   "outputs": [
    {
     "name": "stdout",
     "output_type": "stream",
     "text": [
      "180/180 [==============================] - 16s 87ms/step - loss: 0.9945 - accuracy: 0.9096\n",
      "12/12 [==============================] - 1s 89ms/step - loss: 1.9236 - accuracy: 0.6145\n",
      "final train accuracy = 90.96 , validation accuracy = 61.45\n"
     ]
    }
   ],
   "source": [
    "train_loss, train_acc = model.evaluate(train_generator)\n",
    "test_loss, test_acc   = model.evaluate(validation_generator)\n",
    "print(\"final train accuracy = {:.2f} , validation accuracy = {:.2f}\".format(train_acc*100, test_acc*100))"
   ]
  },
  {
   "cell_type": "code",
   "execution_count": 53,
   "metadata": {},
   "outputs": [],
   "source": [
    "model.save('emotion3.h5') "
   ]
  },
  {
   "cell_type": "code",
   "execution_count": 55,
   "metadata": {},
   "outputs": [],
   "source": [
    "from keras.models import load_model\n",
    "\n",
    "model= load_model('emotion3.h5')\n"
   ]
  },
  {
   "cell_type": "code",
   "execution_count": null,
   "metadata": {},
   "outputs": [],
   "source": []
  }
 ],
 "metadata": {
  "kernelspec": {
   "display_name": "Python 3",
   "language": "python",
   "name": "python3"
  },
  "language_info": {
   "codemirror_mode": {
    "name": "ipython",
    "version": 3
   },
   "file_extension": ".py",
   "mimetype": "text/x-python",
   "name": "python",
   "nbconvert_exporter": "python",
   "pygments_lexer": "ipython3",
   "version": "3.7.4"
  }
 },
 "nbformat": 4,
 "nbformat_minor": 4
}
